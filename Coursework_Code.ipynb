{
  "cells": [
    {
      "cell_type": "markdown",
      "metadata": {
        "id": "aGgkbhrUj8jm"
      },
      "source": [
        "# Coursework\n"
      ]
    },
    {
      "cell_type": "markdown",
      "metadata": {
        "id": "QS7DDTiZGRTo"
      },
      "source": [
        "Import TensorFlow and other libaries:"
      ]
    },
    {
      "cell_type": "code",
      "execution_count": 39,
      "metadata": {
        "colab": {
          "base_uri": "https://localhost:8080/"
        },
        "id": "0trJmd6DjqBZ",
        "outputId": "6fed82bf-8483-4281-f53c-ddc153435923"
      },
      "outputs": [
        {
          "name": "stdout",
          "output_type": "stream",
          "text": [
            "TensorFlow version: 2.19.0\n"
          ]
        }
      ],
      "source": [
        "import os\n",
        "import cv2\n",
        "import tensorflow as tf\n",
        "import numpy as np\n",
        "import seaborn as sns\n",
        "print(\"TensorFlow version:\", tf.__version__)\n",
        "\n",
        "from tensorflow.keras import Model, Sequential, layers, regularizers\n",
        "from tensorflow.keras.layers import Conv2D, MaxPooling2D, Flatten, GlobalAveragePooling2D, Dense, Dropout, Rescaling, BatchNormalization\n",
        "from tensorflow.keras.preprocessing.image import ImageDataGenerator, load_img, img_to_array\n",
        "from tensorflow.keras.utils import to_categorical\n",
        "from tensorflow.keras.callbacks import EarlyStopping, ReduceLROnPlateau\n",
        "from sklearn.metrics import confusion_matrix, classification_report\n",
        "from matplotlib import pyplot as plt"
      ]
    },
    {
      "cell_type": "markdown",
      "metadata": {
        "id": "j09OccfVjhZd"
      },
      "source": [
        "## Hyperparameters"
      ]
    },
    {
      "cell_type": "markdown",
      "metadata": {
        "id": "yPT7JC3zjk5K"
      },
      "source": [
        "Define hyperparameters"
      ]
    },
    {
      "cell_type": "code",
      "execution_count": null,
      "metadata": {
        "id": "HJwYNV9XjjEk"
      },
      "outputs": [],
      "source": [
        "IMG_PATH = \"C:\\\\Users\\\\sandy\\\\Source\\\\repos\\\\Programming Files - repos\\\\Artificial Intelligence\\\\brain_tumor_dataset\" # Path to dataset\n",
        "IMG_SIZE = (256, 256) # Size of each image\n",
        "BATCH_SIZE = 16 # Batch size\n",
        "EPOCHS = 10 # Number of epochs run"
      ]
    },
    {
      "cell_type": "markdown",
      "metadata": {},
      "source": [
        "Google Drive Code"
      ]
    },
    {
      "cell_type": "code",
      "execution_count": 41,
      "metadata": {},
      "outputs": [],
      "source": [
        "# from google.colab import drive\n",
        "\n",
        "# # Mount Google Drive\n",
        "# drive.mount('/content/drive')\n",
        "\n",
        "# # Set the path to your folder - MAKE SURE THIS EXISTS!\n",
        "# folder_path = \"/content/drive/MyDrive/Colab Notebooks/Coursework/brain_tumor_dataset\" # Update with the actual path"
      ]
    },
    {
      "cell_type": "markdown",
      "metadata": {
        "id": "quGmS9d2dTI9"
      },
      "source": [
        "Checks if it has access to the folder where the dataset is stored."
      ]
    },
    {
      "cell_type": "code",
      "execution_count": 42,
      "metadata": {
        "colab": {
          "base_uri": "https://localhost:8080/"
        },
        "id": "-35vj25NsWYC",
        "outputId": "793cf83e-0f15-4f2b-f945-d064c35ae643"
      },
      "outputs": [
        {
          "name": "stdout",
          "output_type": "stream",
          "text": [
            "150\n",
            "73\n"
          ]
        }
      ],
      "source": [
        "# Set the path to your folder - MAKE SURE THIS EXISTS!\n",
        "folder_path = IMG_PATH # Update with the actual path\n",
        "\n",
        "# Now you can access the folder and its contents\n",
        "os.listdir(folder_path)\n",
        "yes_images_path = os.path.join(folder_path, \"yes\") # Connects the \n",
        "no_images_path = os.path.join(folder_path, \"no\")\n",
        "print(len(os.listdir(yes_images_path)))\n",
        "print(len(os.listdir(no_images_path)))"
      ]
    },
    {
      "cell_type": "markdown",
      "metadata": {
        "id": "xlSAYuytU-Un"
      },
      "source": [
        "## Preprocessing Stage"
      ]
    },
    {
      "cell_type": "markdown",
      "metadata": {
        "id": "q1yDLk4eWpCG"
      },
      "source": [
        "Load the images from the Brain Tumour Dataset"
      ]
    },
    {
      "cell_type": "code",
      "execution_count": 43,
      "metadata": {
        "colab": {
          "base_uri": "https://localhost:8080/"
        },
        "id": "Ui9yB70rWoTT",
        "outputId": "792d84f9-0f35-4c42-b764-67fc605d5ce7"
      },
      "outputs": [
        {
          "name": "stdout",
          "output_type": "stream",
          "text": [
            "Number of 'yes' images: 150\n",
            "Number of 'no' images: 73\n"
          ]
        }
      ],
      "source": [
        "def load_and_preprocess_images(image_path, img_size, label_value):\n",
        "    images = []\n",
        "    labels = []\n",
        "\n",
        "    # Load all images from the directory\n",
        "    for filename in os.listdir(image_path):\n",
        "        if filename.endswith((\".jpg\", \".png\", \".jpeg\", \".bmp\", \".JPG\")):  # Handle other image formats\n",
        "            img = load_img(os.path.join(image_path, filename), target_size=img_size)\n",
        "            img_array = img_to_array(img)  # Convert image to array\n",
        "            images.append(img_array)\n",
        "            labels.append(label_value)  # Use the label passed to the function\n",
        "\n",
        "    return np.array(images), np.array(labels)\n",
        "\n",
        "# Load 'yes' and 'no' images\n",
        "yes_images, yes_labels = load_and_preprocess_images(yes_images_path, IMG_SIZE, 1)\n",
        "no_images, no_labels = load_and_preprocess_images(no_images_path, IMG_SIZE, 0)\n",
        "\n",
        "print(\"Number of 'yes' images:\", len(yes_images))\n",
        "print(\"Number of 'no' images:\", len(no_images))"
      ]
    },
    {
      "cell_type": "markdown",
      "metadata": {
        "id": "7NAbSZiaoJ4z"
      },
      "source": [
        "Apply Data Augmentation to the images"
      ]
    },
    {
      "cell_type": "code",
      "execution_count": 44,
      "metadata": {
        "id": "JqFRS6K07jJs"
      },
      "outputs": [],
      "source": [
        "# Normalize the images\n",
        "yes_images = yes_images.astype('float32') / 255.0\n",
        "no_images = no_images.astype('float32') / 255.0\n",
        "\n",
        "# Ensure that labels are reshaped to match the number of images\n",
        "yes_labels = yes_labels.reshape(-1, 1)  # Reshape to (num_samples, 1)\n",
        "no_labels = no_labels.reshape(-1, 1)    # Reshape to (num_samples, 1)\n",
        "\n",
        "# Check if reshaped labels match the number of images\n",
        "assert yes_images.shape[0] == yes_labels.shape[0], \"Mismatch between yes_images and yes_labels count\"\n",
        "assert no_images.shape[0] == no_labels.shape[0], \"Mismatch between no_images and no_labels count\"\n",
        "\n",
        "# Initialize the data augmentor\n",
        "Data_augmentator = ImageDataGenerator(\n",
        "    rotation_range=30,        # Randomly rotates images by up to 20 degrees\n",
        "    width_shift_range=0.2,    # Shifts images horizontally by up to 10% of the width\n",
        "    height_shift_range=0.2,   # Shifts images vertically by up to 10% of the height\n",
        "    shear_range=0.2,          # Applies shear transformations (distortion along an axis)\n",
        "    zoom_range=0.2,           # Randomly zooms images in or out by up to 10%\n",
        "    horizontal_flip=True,     # Randomly flips images horizontally\n",
        "    vertical_flip=True,\n",
        "    fill_mode='constant'      # Fills empty pixels created by transformations with a constant value\n",
        ")\n",
        "\n",
        "# Fit the augmenter on the 'yes' and 'no' images\n",
        "yes_images_augmented = Data_augmentator.flow(yes_images, yes_labels, batch_size=BATCH_SIZE)\n",
        "no_images_augmented = Data_augmentator.flow(no_images, no_labels, batch_size=BATCH_SIZE)\n",
        "\n",
        "# The desired number of images being augmented\n",
        "num_augmentations = 1000\n",
        "\n",
        "# Augment the 'yes' images\n",
        "augmented_yes_images = []\n",
        "augmented_yes_labels = []\n",
        "for i in range(num_augmentations // BATCH_SIZE + 1):  # Generate enough augmented images\n",
        "    batch_images, batch_labels = next(yes_images_augmented)\n",
        "    augmented_yes_images.append(batch_images)\n",
        "    augmented_yes_labels.append(batch_labels)\n",
        "\n",
        "# Convert list to numpy array\n",
        "augmented_yes_images = np.vstack(augmented_yes_images)\n",
        "augmented_yes_labels = np.vstack(augmented_yes_labels)\n",
        "\n",
        "# Get the imbalance between the two classes\n",
        "extra_augmentations = num_augmentations + (len(yes_images) - len(no_images))\n",
        "\n",
        "# Augment the 'no' images (for balancing)\n",
        "augmented_no_images = []\n",
        "augmented_no_labels = []\n",
        "for i in range(extra_augmentations// BATCH_SIZE + 1):  # Generate enough augmented images\n",
        "    batch_images, batch_labels = next(no_images_augmented)\n",
        "    augmented_no_images.append(batch_images)\n",
        "    augmented_no_labels.append(batch_labels)\n",
        "\n",
        "# Convert list to numpy array\n",
        "augmented_no_images = np.vstack(augmented_no_images)\n",
        "augmented_no_labels = np.vstack(augmented_no_labels)\n",
        "\n",
        "# Combine 'yes' and 'no' images into one dataset\n",
        "final_images = np.vstack([augmented_yes_images, augmented_no_images])\n",
        "final_labels = np.vstack([augmented_yes_labels, augmented_no_labels])\n",
        "\n",
        "# Shuffle the dataset\n",
        "indices = np.random.permutation(len(final_images))\n",
        "final_images = final_images[indices]\n",
        "final_labels = final_labels[indices]\n",
        "\n",
        "# Check that final_images and final_labels have matching shapes\n",
        "assert final_images.shape[0] == final_labels.shape[0], \"Mismatch between final_images and final_labels count\"\n"
      ]
    },
    {
      "cell_type": "code",
      "execution_count": 45,
      "metadata": {},
      "outputs": [
        {
          "name": "stdout",
          "output_type": "stream",
          "text": [
            "Original 'Yes' images: 150\n",
            "Original 'No' images: 73\n",
            "Augmented 'Yes' images: 948\n",
            "Augmented 'No' images: 997\n",
            "Total images: 2168\n"
          ]
        }
      ],
      "source": [
        "# Count the number of original 'yes' and 'no' images\n",
        "num_original_yes_images = yes_images.shape[0]  # Number of original 'yes' images\n",
        "num_original_no_images = no_images.shape[0]    # Number of original 'no' images\n",
        "\n",
        "# Count the number of augmented 'yes' and 'no' images\n",
        "num_augmented_yes_images = augmented_yes_images.shape[0]  # Number of augmented 'yes' images\n",
        "num_augmented_no_images = augmented_no_images.shape[0]    # Number of augmented 'no' images\n",
        "\n",
        "# Total images after augmentation\n",
        "total_yes_images = num_original_yes_images + num_augmented_yes_images\n",
        "total_no_images = num_original_no_images + num_augmented_no_images\n",
        "\n",
        "# Total images in the entire dataset\n",
        "total_images = total_yes_images + total_no_images\n",
        "\n",
        "# Print the counts\n",
        "print(f\"Original 'Yes' images: {num_original_yes_images}\")\n",
        "print(f\"Original 'No' images: {num_original_no_images}\")\n",
        "print(f\"Augmented 'Yes' images: {num_augmented_yes_images}\")\n",
        "print(f\"Augmented 'No' images: {num_augmented_no_images}\")\n",
        "print(f\"Total images: {total_images}\")\n",
        "\n"
      ]
    },
    {
      "cell_type": "code",
      "execution_count": 47,
      "metadata": {
        "colab": {
          "base_uri": "https://localhost:8080/"
        },
        "id": "vON2tTrEnq68",
        "outputId": "d2693079-d1c4-4352-e99b-8c824f451fae"
      },
      "outputs": [
        {
          "name": "stdout",
          "output_type": "stream",
          "text": [
            "Train images shape: (16, 256, 256, 3)\n",
            "Train labels shape: (16, 1)\n",
            "Validation images shape: (16, 256, 256, 3)\n",
            "Validation labels shape: (16, 1)\n",
            "Test images shape: (16, 256, 256, 3)\n",
            "Test labels shape: (16, 1)\n"
          ]
        }
      ],
      "source": [
        "from sklearn.model_selection import train_test_split\n",
        "\n",
        "# First, split the dataset into 60% training and 40% temporary (validation + test)\n",
        "x_train, x_temp, y_train, y_temp = train_test_split(final_images, final_labels, test_size=0.4, random_state=42)\n",
        "\n",
        "# Now, split the temporary dataset into 50% validation and 50% test (20% each of the original dataset)\n",
        "x_val, x_test, y_val, y_test = train_test_split(x_temp, y_temp, test_size=0.5, random_state=42)\n",
        "\n",
        "# Convert data to TensorFlow Datasets\n",
        "train_ds = tf.data.Dataset.from_tensor_slices((x_train, y_train))\n",
        "val_ds = tf.data.Dataset.from_tensor_slices((x_val, y_val))\n",
        "test_ds = tf.data.Dataset.from_tensor_slices((x_test, y_test))\n",
        "\n",
        "# Shuffle and batch the datasets\n",
        "train_ds = train_ds.shuffle(buffer_size=10000).batch(BATCH_SIZE)\n",
        "val_ds = val_ds.batch(BATCH_SIZE)\n",
        "test_ds = test_ds.batch(BATCH_SIZE)\n",
        "\n",
        "\n",
        "# Check dataset shapes\n",
        "for train_images, train_labels in train_ds.take(1):\n",
        "    print(f\"Train images shape: {train_images.shape}\")\n",
        "    print(f\"Train labels shape: {train_labels.shape}\")\n",
        "    \n",
        "for val_images, val_labels in val_ds.take(1):\n",
        "    print(f\"Validation images shape: {val_images.shape}\")\n",
        "    print(f\"Validation labels shape: {val_labels.shape}\")\n",
        "\n",
        "for test_images, test_labels in test_ds.take(1):\n",
        "    print(f\"Test images shape: {test_images.shape}\")\n",
        "    print(f\"Test labels shape: {test_labels.shape}\")\n"
      ]
    },
    {
      "cell_type": "code",
      "execution_count": 48,
      "metadata": {},
      "outputs": [
        {
          "name": "stdout",
          "output_type": "stream",
          "text": [
            "Total number of training images: 1167\n",
            "Total number of validation images: 389\n",
            "Total number of test images: 389\n"
          ]
        }
      ],
      "source": [
        "def count_samples(dataset):\n",
        "    sample_count = 0\n",
        "    for images, labels in dataset:\n",
        "        sample_count += images.shape[0]  # Count the number of images in the batch\n",
        "    return sample_count\n",
        "\n",
        "# Count total number of images in each dataset after batching\n",
        "print(f\"Total number of training images: {count_samples(train_ds)}\")\n",
        "print(f\"Total number of validation images: {count_samples(val_ds)}\")\n",
        "print(f\"Total number of test images: {count_samples(test_ds)}\")"
      ]
    },
    {
      "cell_type": "markdown",
      "metadata": {
        "id": "LhGuaQ2xwtd1"
      },
      "source": [
        "Checks if the images from the dataset have been loaded and prepared."
      ]
    },
    {
      "cell_type": "code",
      "execution_count": null,
      "metadata": {
        "colab": {
          "base_uri": "https://localhost:8080/",
          "height": 906
        },
        "id": "47mefjUmpz_b",
        "outputId": "ae4ecd46-9a42-41a8-bcc0-3c5ac7e3d487"
      },
      "outputs": [],
      "source": [
        "# # Get a batch of images from the dataset\n",
        "# for images, labels in train_ds.take(1):\n",
        "#     fig, axes = plt.subplots(3, 3, figsize=(12, 9))  # 3 rows, 3 columns\n",
        "\n",
        "#     for i in range(9):  # Loop over the first 9 images in the batch\n",
        "#         image = images[i].numpy()  # Convert the image from TensorFlow tensor to numpy array\n",
        "\n",
        "#         # Plot the image without heatmap\n",
        "#         ax = axes[i // 3, i % 3]  # Adjust the row and column index for 3x3 grid\n",
        "#         ax.imshow(image)\n",
        "#         ax.axis(\"off\")  # Turn off axis\n",
        "#         ax.set_title(\"Yes\" if labels[i][0] == 1 else \"No\")  # Display 'Yes' or 'No' based on the labels\n",
        "\n",
        "#     plt.tight_layout()\n",
        "#     plt.show()\n",
        "#     break  # Show only one batch"
      ]
    },
    {
      "cell_type": "markdown",
      "metadata": {
        "id": "18qBZUI0gdmd"
      },
      "source": [
        "Data augment and Normalize the data"
      ]
    },
    {
      "cell_type": "code",
      "execution_count": null,
      "metadata": {
        "id": "VAer3M3IgdZF"
      },
      "outputs": [],
      "source": [
        "# # Normalize data correctly\n",
        "# normalization_layer = Rescaling(1./255)\n",
        "\n",
        "# train_ds = train_ds.map(lambda x, y: (normalization_layer(x), y))\n",
        "\n",
        "# val_ds = val_ds.map(lambda x, y: (normalization_layer(x), y))  # No augmentation on validation"
      ]
    },
    {
      "cell_type": "markdown",
      "metadata": {
        "id": "dlWPVMV6gy6D"
      },
      "source": [
        "## Model Construction"
      ]
    },
    {
      "cell_type": "markdown",
      "metadata": {
        "id": "BPZ68wASog_I"
      },
      "source": [
        "Build the `tf.keras` model using the Keras [model subclassing API](https://www.tensorflow.org/guide/keras/custom_layers_and_models):"
      ]
    },
    {
      "cell_type": "markdown",
      "metadata": {},
      "source": [
        "Raw Model - No pretrained Model"
      ]
    },
    {
      "cell_type": "code",
      "execution_count": null,
      "metadata": {},
      "outputs": [],
      "source": [
        "# class MyModel(Model):\n",
        "#   def __init__(self):\n",
        "#     super().__init__()\n",
        "\n",
        "#     kernReg = 0.01\n",
        "\n",
        "#     self.conv1 = Conv2D(32, (3, 3), activation=None, padding = 'same', kernel_regularizer=regularizers.l2(kernReg), input_shape = (IMG_SIZE, 3))\n",
        "#     self.batch_norm1 = BatchNormalization()\n",
        "#     self.pool1 = MaxPooling2D(2, 2)\n",
        "\n",
        "#     self.conv2 = Conv2D(64, (3, 3), activation=None, padding = 'same', kernel_regularizer=regularizers.l2(kernReg))\n",
        "#     self.batch_norm2 = BatchNormalization()\n",
        "#     self.pool2 = MaxPooling2D(2, 2)\n",
        "\n",
        "#     self.conv3 = Conv2D(128, (3, 3), activation=None, padding = 'same', kernel_regularizer=regularizers.l2(kernReg))\n",
        "#     self.batch_norm3 = BatchNormalization()\n",
        "#     self.pool3 = MaxPooling2D(2, 2)\n",
        "\n",
        "#     self.flatten = Flatten()\n",
        "\n",
        "#     self.dense1 = Dense(256, activation='relu')\n",
        "#     self.dropout1 = Dropout(0.5)\n",
        "#     self.dense2 = Dense(128, activation='relu')\n",
        "#     self.dropout2 = Dropout(0.5)\n",
        "\n",
        "#     self.dense3 = Dense(1, activation='sigmoid')\n",
        "\n",
        "#   def call(self, x):\n",
        "#     x = self.conv1(x)\n",
        "#     x = tf.nn.relu(x)\n",
        "#     x = self.batch_norm1(x)\n",
        "#     x = self.pool1(x)\n",
        "\n",
        "#     x = self.conv2(x)\n",
        "#     x = tf.nn.relu(x)\n",
        "#     x = self.batch_norm2(x)\n",
        "#     x = self.pool2(x)\n",
        "\n",
        "#     x = self.conv3(x)\n",
        "#     x = tf.nn.relu(x)\n",
        "#     x = self.batch_norm3(x)\n",
        "#     x = self.pool3(x)\n",
        "\n",
        "#     x = self.flatten(x)\n",
        "\n",
        "#     x = self.dense1(x)\n",
        "#     x = self.dropout1(x)\n",
        "#     x = self.dense2(x)\n",
        "#     x = self.dropout2(x)\n",
        "\n",
        "#     return self.dense3(x)\n",
        "\n",
        "# # Create an instance of the model\n",
        "# model = MyModel()\n",
        "\n",
        "# # Build the model\n",
        "# model.build(input_shape=(None, IMG_SIZE, 3))\n",
        "\n",
        "# # Compile the model\n",
        "# model.compile(loss='binary_crossentropy',\n",
        "#               optimizer=tf.keras.optimizers.Adam(learning_rate=1e-5),\n",
        "#               metrics=['accuracy'])"
      ]
    },
    {
      "cell_type": "markdown",
      "metadata": {},
      "source": [
        "Pretrained Model used"
      ]
    },
    {
      "cell_type": "code",
      "execution_count": null,
      "metadata": {
        "colab": {
          "base_uri": "https://localhost:8080/"
        },
        "id": "h3IKyzTCDNGo",
        "outputId": "89cb4945-d6b0-46d2-cd76-2ff45bf4a81e"
      },
      "outputs": [
        {
          "name": "stderr",
          "output_type": "stream",
          "text": [
            "C:\\Users\\sandy\\AppData\\Local\\Temp\\ipykernel_17296\\3351374682.py:10: UserWarning: `input_shape` is undefined or non-square, or `rows` is not in [96, 128, 160, 192, 224]. Weights for input shape (224, 224) will be loaded as the default.\n",
            "  base_model = MobileNetV2(weights='imagenet', include_top=False, input_shape=(256, 256, 3))\n"
          ]
        },
        {
          "name": "stdout",
          "output_type": "stream",
          "text": [
            "Epoch 1/5\n",
            "\u001b[1m37/37\u001b[0m \u001b[32m━━━━━━━━━━━━━━━━━━━━\u001b[0m\u001b[37m\u001b[0m \u001b[1m28s\u001b[0m 535ms/step - accuracy: 0.7542 - loss: 0.5537 - val_accuracy: 0.9306 - val_loss: 0.2207\n",
            "Epoch 2/5\n",
            "\u001b[1m37/37\u001b[0m \u001b[32m━━━━━━━━━━━━━━━━━━━━\u001b[0m\u001b[37m\u001b[0m \u001b[1m17s\u001b[0m 471ms/step - accuracy: 0.9406 - loss: 0.1661 - val_accuracy: 0.9409 - val_loss: 0.1596\n",
            "Epoch 3/5\n",
            "\u001b[1m37/37\u001b[0m \u001b[32m━━━━━━━━━━━━━━━━━━━━\u001b[0m\u001b[37m\u001b[0m \u001b[1m17s\u001b[0m 469ms/step - accuracy: 0.9752 - loss: 0.1013 - val_accuracy: 0.9306 - val_loss: 0.1335\n",
            "Epoch 4/5\n",
            "\u001b[1m37/37\u001b[0m \u001b[32m━━━━━━━━━━━━━━━━━━━━\u001b[0m\u001b[37m\u001b[0m \u001b[1m18s\u001b[0m 487ms/step - accuracy: 0.9835 - loss: 0.0801 - val_accuracy: 0.9717 - val_loss: 0.0894\n",
            "Epoch 5/5\n",
            "\u001b[1m37/37\u001b[0m \u001b[32m━━━━━━━━━━━━━━━━━━━━\u001b[0m\u001b[37m\u001b[0m \u001b[1m17s\u001b[0m 467ms/step - accuracy: 0.9829 - loss: 0.0646 - val_accuracy: 0.9563 - val_loss: 0.1008\n"
          ]
        },
        {
          "data": {
            "text/plain": [
              "<keras.src.callbacks.history.History at 0x1c6b6b19a10>"
            ]
          },
          "execution_count": 27,
          "metadata": {},
          "output_type": "execute_result"
        }
      ],
      "source": [
        "from tensorflow.keras.layers import  GlobalAveragePooling2D, Dropout\n",
        "from tensorflow.keras.models import Model\n",
        "from tensorflow.keras.applications import MobileNetV2\n",
        "\n",
        "class MyModel(Model):\n",
        "    def __init__(self):\n",
        "        super().__init__()\n",
        "\n",
        "        # Load MobileNetV2 without the top classification layer\n",
        "        base_model = MobileNetV2(weights='imagenet', include_top=False, input_shape=(256, 256, 3))\n",
        "        base_model.trainable = False  # Freeze pretrained layers\n",
        "\n",
        "        self.base_model = base_model\n",
        "        self.global_pool = GlobalAveragePooling2D()\n",
        "        self.dense1 = Dense(1024, activation='relu')\n",
        "        self.dropout1 = Dropout(0.5)\n",
        "        self.output_layer = Dense(1, activation='sigmoid')  # Binary classification\n",
        "\n",
        "    def call(self, x):\n",
        "        x = self.base_model(x, training=False)  # Ensure base model is not training\n",
        "        x = self.global_pool(x)\n",
        "        x = self.dense1(x)\n",
        "        x = self.dropout1(x)\n",
        "        return self.output_layer(x)\n",
        "\n",
        "# Create an instance of the model\n",
        "model = MyModel()\n",
        "\n",
        "# Compile the model\n",
        "model.compile(optimizer='adam',\n",
        "              loss='binary_crossentropy',\n",
        "              metrics=['accuracy'])\n",
        "\n",
        "# Train the model using x_train and y_train\n",
        "model.fit(x_train, y_train, epochs=5, validation_data=(x_val, y_val))\n"
      ]
    },
    {
      "cell_type": "markdown",
      "metadata": {
        "id": "jrm6-ivBhdSg"
      },
      "source": [
        "### Training and Testing"
      ]
    },
    {
      "cell_type": "markdown",
      "metadata": {
        "id": "uGih-c2LgbJu"
      },
      "source": [
        "Choose an optimizer and loss function for training:"
      ]
    },
    {
      "cell_type": "code",
      "execution_count": null,
      "metadata": {
        "id": "u48C9WQ774n4"
      },
      "outputs": [],
      "source": [
        "loss_object = tf.keras.losses.BinaryCrossentropy() # BinaryCrossentropy loss function for binary data values [0, 1]\n",
        "\n",
        "optimizer = tf.keras.optimizers.Adam(learning_rate=1e-6) # Learning rate"
      ]
    },
    {
      "cell_type": "markdown",
      "metadata": {
        "id": "JB6A1vcigsIe"
      },
      "source": [
        "Select metrics to measure the loss and the accuracy of the model. These metrics accumulate the values over epochs and then print the overall result."
      ]
    },
    {
      "cell_type": "code",
      "execution_count": null,
      "metadata": {
        "id": "N0MqHFb4F_qn"
      },
      "outputs": [],
      "source": [
        "train_loss = tf.keras.metrics.Mean(name='train_loss')\n",
        "train_accuracy = tf.keras.metrics.BinaryAccuracy(name='train_accuracy')\n",
        "\n",
        "test_loss = tf.keras.metrics.Mean(name='test_loss')\n",
        "test_accuracy = tf.keras.metrics.BinaryAccuracy(name='test_accuracy')"
      ]
    },
    {
      "cell_type": "code",
      "execution_count": null,
      "metadata": {
        "id": "3P8kosPbWYEh"
      },
      "outputs": [],
      "source": [
        "# Callbacks for better training efficiency\n",
        "early_stopping = EarlyStopping(monitor='val_loss', patience=5, restore_best_weights=True)\n",
        "reduce_lr = ReduceLROnPlateau(monitor='val_loss', factor=0.2, patience=3, min_lr=1e-6)"
      ]
    },
    {
      "cell_type": "markdown",
      "metadata": {
        "id": "ix4mEL65on-w"
      },
      "source": [
        "Use `tf.GradientTape` to train the model:"
      ]
    },
    {
      "cell_type": "code",
      "execution_count": null,
      "metadata": {
        "id": "OZACiVqA8KQV"
      },
      "outputs": [],
      "source": [
        "@tf.function\n",
        "def train_step(images, labels):\n",
        "  with tf.GradientTape() as tape:\n",
        "    # training=True is only needed if there are layers with different\n",
        "    # behavior during training versus inference (e.g. Dropout).\n",
        "    predictions = model(images, training=True)\n",
        "    loss = loss_object(labels, predictions)\n",
        "  gradients = tape.gradient(loss, model.trainable_variables)\n",
        "  optimizer.apply_gradients(zip(gradients, model.trainable_variables))\n",
        "\n",
        "  train_loss(loss)\n",
        "  train_accuracy.update_state(labels, predictions)"
      ]
    },
    {
      "cell_type": "markdown",
      "metadata": {
        "id": "Z8YT7UmFgpjV"
      },
      "source": [
        "Test the model:"
      ]
    },
    {
      "cell_type": "code",
      "execution_count": null,
      "metadata": {
        "id": "xIKdEzHAJGt7"
      },
      "outputs": [],
      "source": [
        "@tf.function\n",
        "def test_step(images, labels):\n",
        "  # training=False is only needed if there are layers with different\n",
        "  # behavior during training versus inference (e.g. Dropout).\n",
        "  predictions = model(images, training=False)\n",
        "  t_loss = loss_object(labels, predictions)\n",
        "\n",
        "  test_loss(t_loss)\n",
        "  test_accuracy.update_state(labels, predictions)"
      ]
    },
    {
      "cell_type": "markdown",
      "metadata": {
        "id": "9q88c5fphgVz"
      },
      "source": [
        "## Model Evaluation"
      ]
    },
    {
      "cell_type": "code",
      "execution_count": null,
      "metadata": {
        "colab": {
          "base_uri": "https://localhost:8080/"
        },
        "id": "i-2pkctU_Ci7",
        "outputId": "2862df4d-1c6d-443c-8848-a9a8b48d95d8"
      },
      "outputs": [
        {
          "name": "stdout",
          "output_type": "stream",
          "text": [
            "Epoch 1, Loss: 0.03, Accuracy: 99.57, Test Loss: 0.09, Test Accuracy: 96.66\n",
            "Epoch 2, Loss: 0.03, Accuracy: 99.66, Test Loss: 0.08, Test Accuracy: 96.92\n",
            "Epoch 3, Loss: 0.03, Accuracy: 99.66, Test Loss: 0.08, Test Accuracy: 97.17\n",
            "Epoch 4, Loss: 0.03, Accuracy: 99.66, Test Loss: 0.08, Test Accuracy: 97.17\n",
            "Epoch 5, Loss: 0.02, Accuracy: 99.66, Test Loss: 0.08, Test Accuracy: 97.43\n",
            "Epoch 6, Loss: 0.02, Accuracy: 99.66, Test Loss: 0.08, Test Accuracy: 97.69\n",
            "Epoch 7, Loss: 0.02, Accuracy: 99.66, Test Loss: 0.08, Test Accuracy: 97.69\n",
            "Epoch 8, Loss: 0.02, Accuracy: 99.66, Test Loss: 0.08, Test Accuracy: 97.43\n",
            "Epoch 9, Loss: 0.02, Accuracy: 99.66, Test Loss: 0.08, Test Accuracy: 97.43\n",
            "Epoch 10, Loss: 0.02, Accuracy: 99.74, Test Loss: 0.08, Test Accuracy: 97.43\n"
          ]
        }
      ],
      "source": [
        "# Initialize Early Stopping Parameters\n",
        "patience = 5  # Number of epochs to wait before stopping\n",
        "best_val_loss = np.inf  # Start with a very high value\n",
        "wait = 0  # Counter for early stopping\n",
        "best_weights = None  # Store the best model weights\n",
        "\n",
        "for epoch in range(EPOCHS):\n",
        "    # Reset the metrics at the start of the next epoch\n",
        "    train_loss.reset_state()\n",
        "    train_accuracy.reset_state()\n",
        "    test_loss.reset_state()\n",
        "    test_accuracy.reset_state()\n",
        "\n",
        "    # Training Step\n",
        "    for train_images, train_labels in train_ds:\n",
        "        train_step(train_images, train_labels)\n",
        "\n",
        "    # Validation Step\n",
        "    for test_images, test_labels in val_ds:\n",
        "        test_step(test_images, test_labels)\n",
        "\n",
        "    # Get current validation loss and accuracy\n",
        "    current_val_loss = test_loss.result().numpy()\n",
        "    current_test_acc = test_accuracy.result().numpy()\n",
        "\n",
        "    # Print training and test metrics\n",
        "    print(\n",
        "        f'Epoch {epoch + 1}, '\n",
        "        f'Loss: {train_loss.result():0.2f}, '\n",
        "        f'Accuracy: {train_accuracy.result() * 100:0.2f}, '\n",
        "        f'Test Loss: {test_loss.result():0.2f}, '\n",
        "        f'Test Accuracy: {test_accuracy.result() * 100:0.2f}'\n",
        "    )\n",
        "\n",
        "    # Early Stopping Logic\n",
        "    if current_val_loss < best_val_loss:\n",
        "        best_val_loss = current_val_loss\n",
        "        best_weights = model.get_weights()  # Save best weights\n",
        "        wait = 0  # Reset patience counter\n",
        "    else:\n",
        "        wait += 1  # Increment patience counter\n",
        "        if wait >= patience:\n",
        "            print(f\"Early stopping triggered at epoch {epoch + 1}\")\n",
        "            model.set_weights(best_weights)  # Restore best weights\n",
        "            break  # Stop training\n"
      ]
    },
    {
      "cell_type": "markdown",
      "metadata": {
        "id": "YaOoFcSg4VTU"
      },
      "source": [
        "Compile the model and provide a summary of the model"
      ]
    },
    {
      "cell_type": "code",
      "execution_count": null,
      "metadata": {
        "colab": {
          "base_uri": "https://localhost:8080/",
          "height": 657
        },
        "id": "DkXvmeIE5i2M",
        "outputId": "72806d4e-6c86-4eeb-adb2-97e437e3af16"
      },
      "outputs": [
        {
          "data": {
            "text/html": [
              "<pre style=\"white-space:pre;overflow-x:auto;line-height:normal;font-family:Menlo,'DejaVu Sans Mono',consolas,'Courier New',monospace\"><span style=\"font-weight: bold\">Model: \"my_model_1\"</span>\n",
              "</pre>\n"
            ],
            "text/plain": [
              "\u001b[1mModel: \"my_model_1\"\u001b[0m\n"
            ]
          },
          "metadata": {},
          "output_type": "display_data"
        },
        {
          "data": {
            "text/html": [
              "<pre style=\"white-space:pre;overflow-x:auto;line-height:normal;font-family:Menlo,'DejaVu Sans Mono',consolas,'Courier New',monospace\">┏━━━━━━━━━━━━━━━━━━━━━━━━━━━━━━━━━┳━━━━━━━━━━━━━━━━━━━━━━━━┳━━━━━━━━━━━━━━━┓\n",
              "┃<span style=\"font-weight: bold\"> Layer (type)                    </span>┃<span style=\"font-weight: bold\"> Output Shape           </span>┃<span style=\"font-weight: bold\">       Param # </span>┃\n",
              "┡━━━━━━━━━━━━━━━━━━━━━━━━━━━━━━━━━╇━━━━━━━━━━━━━━━━━━━━━━━━╇━━━━━━━━━━━━━━━┩\n",
              "│ mobilenetv2_1.00_224            │ (<span style=\"color: #00d7ff; text-decoration-color: #00d7ff\">None</span>, <span style=\"color: #00af00; text-decoration-color: #00af00\">8</span>, <span style=\"color: #00af00; text-decoration-color: #00af00\">8</span>, <span style=\"color: #00af00; text-decoration-color: #00af00\">1280</span>)     │     <span style=\"color: #00af00; text-decoration-color: #00af00\">2,257,984</span> │\n",
              "│ (<span style=\"color: #0087ff; text-decoration-color: #0087ff\">Functional</span>)                    │                        │               │\n",
              "├─────────────────────────────────┼────────────────────────┼───────────────┤\n",
              "│ global_average_pooling2d_2      │ ?                      │             <span style=\"color: #00af00; text-decoration-color: #00af00\">0</span> │\n",
              "│ (<span style=\"color: #0087ff; text-decoration-color: #0087ff\">GlobalAveragePooling2D</span>)        │                        │               │\n",
              "├─────────────────────────────────┼────────────────────────┼───────────────┤\n",
              "│ dense_4 (<span style=\"color: #0087ff; text-decoration-color: #0087ff\">Dense</span>)                 │ (<span style=\"color: #00d7ff; text-decoration-color: #00d7ff\">None</span>, <span style=\"color: #00af00; text-decoration-color: #00af00\">1024</span>)           │     <span style=\"color: #00af00; text-decoration-color: #00af00\">1,311,744</span> │\n",
              "├─────────────────────────────────┼────────────────────────┼───────────────┤\n",
              "│ dropout_2 (<span style=\"color: #0087ff; text-decoration-color: #0087ff\">Dropout</span>)             │ ?                      │             <span style=\"color: #00af00; text-decoration-color: #00af00\">0</span> │\n",
              "├─────────────────────────────────┼────────────────────────┼───────────────┤\n",
              "│ dense_5 (<span style=\"color: #0087ff; text-decoration-color: #0087ff\">Dense</span>)                 │ (<span style=\"color: #00d7ff; text-decoration-color: #00d7ff\">None</span>, <span style=\"color: #00af00; text-decoration-color: #00af00\">1</span>)              │         <span style=\"color: #00af00; text-decoration-color: #00af00\">1,025</span> │\n",
              "└─────────────────────────────────┴────────────────────────┴───────────────┘\n",
              "</pre>\n"
            ],
            "text/plain": [
              "┏━━━━━━━━━━━━━━━━━━━━━━━━━━━━━━━━━┳━━━━━━━━━━━━━━━━━━━━━━━━┳━━━━━━━━━━━━━━━┓\n",
              "┃\u001b[1m \u001b[0m\u001b[1mLayer (type)                   \u001b[0m\u001b[1m \u001b[0m┃\u001b[1m \u001b[0m\u001b[1mOutput Shape          \u001b[0m\u001b[1m \u001b[0m┃\u001b[1m \u001b[0m\u001b[1m      Param #\u001b[0m\u001b[1m \u001b[0m┃\n",
              "┡━━━━━━━━━━━━━━━━━━━━━━━━━━━━━━━━━╇━━━━━━━━━━━━━━━━━━━━━━━━╇━━━━━━━━━━━━━━━┩\n",
              "│ mobilenetv2_1.00_224            │ (\u001b[38;5;45mNone\u001b[0m, \u001b[38;5;34m8\u001b[0m, \u001b[38;5;34m8\u001b[0m, \u001b[38;5;34m1280\u001b[0m)     │     \u001b[38;5;34m2,257,984\u001b[0m │\n",
              "│ (\u001b[38;5;33mFunctional\u001b[0m)                    │                        │               │\n",
              "├─────────────────────────────────┼────────────────────────┼───────────────┤\n",
              "│ global_average_pooling2d_2      │ ?                      │             \u001b[38;5;34m0\u001b[0m │\n",
              "│ (\u001b[38;5;33mGlobalAveragePooling2D\u001b[0m)        │                        │               │\n",
              "├─────────────────────────────────┼────────────────────────┼───────────────┤\n",
              "│ dense_4 (\u001b[38;5;33mDense\u001b[0m)                 │ (\u001b[38;5;45mNone\u001b[0m, \u001b[38;5;34m1024\u001b[0m)           │     \u001b[38;5;34m1,311,744\u001b[0m │\n",
              "├─────────────────────────────────┼────────────────────────┼───────────────┤\n",
              "│ dropout_2 (\u001b[38;5;33mDropout\u001b[0m)             │ ?                      │             \u001b[38;5;34m0\u001b[0m │\n",
              "├─────────────────────────────────┼────────────────────────┼───────────────┤\n",
              "│ dense_5 (\u001b[38;5;33mDense\u001b[0m)                 │ (\u001b[38;5;45mNone\u001b[0m, \u001b[38;5;34m1\u001b[0m)              │         \u001b[38;5;34m1,025\u001b[0m │\n",
              "└─────────────────────────────────┴────────────────────────┴───────────────┘\n"
            ]
          },
          "metadata": {},
          "output_type": "display_data"
        },
        {
          "data": {
            "text/html": [
              "<pre style=\"white-space:pre;overflow-x:auto;line-height:normal;font-family:Menlo,'DejaVu Sans Mono',consolas,'Courier New',monospace\"><span style=\"font-weight: bold\"> Total params: </span><span style=\"color: #00af00; text-decoration-color: #00af00\">6,196,293</span> (23.64 MB)\n",
              "</pre>\n"
            ],
            "text/plain": [
              "\u001b[1m Total params: \u001b[0m\u001b[38;5;34m6,196,293\u001b[0m (23.64 MB)\n"
            ]
          },
          "metadata": {},
          "output_type": "display_data"
        },
        {
          "data": {
            "text/html": [
              "<pre style=\"white-space:pre;overflow-x:auto;line-height:normal;font-family:Menlo,'DejaVu Sans Mono',consolas,'Courier New',monospace\"><span style=\"font-weight: bold\"> Trainable params: </span><span style=\"color: #00af00; text-decoration-color: #00af00\">1,312,769</span> (5.01 MB)\n",
              "</pre>\n"
            ],
            "text/plain": [
              "\u001b[1m Trainable params: \u001b[0m\u001b[38;5;34m1,312,769\u001b[0m (5.01 MB)\n"
            ]
          },
          "metadata": {},
          "output_type": "display_data"
        },
        {
          "data": {
            "text/html": [
              "<pre style=\"white-space:pre;overflow-x:auto;line-height:normal;font-family:Menlo,'DejaVu Sans Mono',consolas,'Courier New',monospace\"><span style=\"font-weight: bold\"> Non-trainable params: </span><span style=\"color: #00af00; text-decoration-color: #00af00\">2,257,984</span> (8.61 MB)\n",
              "</pre>\n"
            ],
            "text/plain": [
              "\u001b[1m Non-trainable params: \u001b[0m\u001b[38;5;34m2,257,984\u001b[0m (8.61 MB)\n"
            ]
          },
          "metadata": {},
          "output_type": "display_data"
        },
        {
          "data": {
            "text/html": [
              "<pre style=\"white-space:pre;overflow-x:auto;line-height:normal;font-family:Menlo,'DejaVu Sans Mono',consolas,'Courier New',monospace\"><span style=\"font-weight: bold\"> Optimizer params: </span><span style=\"color: #00af00; text-decoration-color: #00af00\">2,625,540</span> (10.02 MB)\n",
              "</pre>\n"
            ],
            "text/plain": [
              "\u001b[1m Optimizer params: \u001b[0m\u001b[38;5;34m2,625,540\u001b[0m (10.02 MB)\n"
            ]
          },
          "metadata": {},
          "output_type": "display_data"
        }
      ],
      "source": [
        "# Model summary\n",
        "model.summary()"
      ]
    },
    {
      "cell_type": "markdown",
      "metadata": {
        "id": "whCx9RTpgeQd"
      },
      "source": [
        "Retrieve the data from the model"
      ]
    },
    {
      "cell_type": "code",
      "execution_count": null,
      "metadata": {
        "colab": {
          "base_uri": "https://localhost:8080/"
        },
        "id": "UAoWw8Jq2lAD",
        "outputId": "902840a7-be42-490c-84d7-7fc30b58a01e"
      },
      "outputs": [
        {
          "name": "stdout",
          "output_type": "stream",
          "text": [
            "Epoch 1/10\n",
            "\u001b[1m73/73\u001b[0m \u001b[32m━━━━━━━━━━━━━━━━━━━━\u001b[0m\u001b[37m\u001b[0m \u001b[1m19s\u001b[0m 255ms/step - accuracy: 0.9940 - loss: 0.0351 - val_accuracy: 0.9743 - val_loss: 0.0749 - learning_rate: 0.0010\n",
            "Epoch 2/10\n",
            "\u001b[1m73/73\u001b[0m \u001b[32m━━━━━━━━━━━━━━━━━━━━\u001b[0m\u001b[37m\u001b[0m \u001b[1m18s\u001b[0m 247ms/step - accuracy: 0.9934 - loss: 0.0284 - val_accuracy: 0.9692 - val_loss: 0.0893 - learning_rate: 0.0010\n",
            "Epoch 3/10\n",
            "\u001b[1m73/73\u001b[0m \u001b[32m━━━━━━━━━━━━━━━━━━━━\u001b[0m\u001b[37m\u001b[0m \u001b[1m18s\u001b[0m 254ms/step - accuracy: 0.9974 - loss: 0.0174 - val_accuracy: 0.9743 - val_loss: 0.0631 - learning_rate: 0.0010\n",
            "Epoch 4/10\n",
            "\u001b[1m73/73\u001b[0m \u001b[32m━━━━━━━━━━━━━━━━━━━━\u001b[0m\u001b[37m\u001b[0m \u001b[1m19s\u001b[0m 262ms/step - accuracy: 0.9905 - loss: 0.0262 - val_accuracy: 0.9460 - val_loss: 0.1549 - learning_rate: 0.0010\n",
            "Epoch 5/10\n",
            "\u001b[1m73/73\u001b[0m \u001b[32m━━━━━━━━━━━━━━━━━━━━\u001b[0m\u001b[37m\u001b[0m \u001b[1m18s\u001b[0m 245ms/step - accuracy: 0.9888 - loss: 0.0357 - val_accuracy: 0.9383 - val_loss: 0.1777 - learning_rate: 0.0010\n",
            "Epoch 6/10\n",
            "\u001b[1m73/73\u001b[0m \u001b[32m━━━━━━━━━━━━━━━━━━━━\u001b[0m\u001b[37m\u001b[0m \u001b[1m17s\u001b[0m 239ms/step - accuracy: 0.9856 - loss: 0.0424 - val_accuracy: 0.9537 - val_loss: 0.1044 - learning_rate: 0.0010\n",
            "Epoch 7/10\n",
            "\u001b[1m73/73\u001b[0m \u001b[32m━━━━━━━━━━━━━━━━━━━━\u001b[0m\u001b[37m\u001b[0m \u001b[1m17s\u001b[0m 237ms/step - accuracy: 0.9951 - loss: 0.0088 - val_accuracy: 0.9794 - val_loss: 0.0643 - learning_rate: 2.0000e-04\n",
            "Epoch 8/10\n",
            "\u001b[1m73/73\u001b[0m \u001b[32m━━━━━━━━━━━━━━━━━━━━\u001b[0m\u001b[37m\u001b[0m \u001b[1m18s\u001b[0m 242ms/step - accuracy: 1.0000 - loss: 0.0023 - val_accuracy: 0.9794 - val_loss: 0.0630 - learning_rate: 2.0000e-04\n",
            "Epoch 9/10\n",
            "\u001b[1m73/73\u001b[0m \u001b[32m━━━━━━━━━━━━━━━━━━━━\u001b[0m\u001b[37m\u001b[0m \u001b[1m17s\u001b[0m 239ms/step - accuracy: 1.0000 - loss: 0.0018 - val_accuracy: 0.9743 - val_loss: 0.0650 - learning_rate: 2.0000e-04\n",
            "Epoch 10/10\n",
            "\u001b[1m73/73\u001b[0m \u001b[32m━━━━━━━━━━━━━━━━━━━━\u001b[0m\u001b[37m\u001b[0m \u001b[1m18s\u001b[0m 251ms/step - accuracy: 1.0000 - loss: 0.0013 - val_accuracy: 0.9794 - val_loss: 0.0639 - learning_rate: 4.0000e-05\n"
          ]
        }
      ],
      "source": [
        "data = model.fit(\n",
        "    train_ds,\n",
        "    validation_data = val_ds,\n",
        "    epochs = EPOCHS,\n",
        "    callbacks=[early_stopping, reduce_lr]  # Using both callbacks\n",
        ")"
      ]
    },
    {
      "cell_type": "markdown",
      "metadata": {
        "id": "CEhMZyEo7UaN"
      },
      "source": [
        "Display the accuracy trend and loss trend of the model"
      ]
    },
    {
      "cell_type": "code",
      "execution_count": null,
      "metadata": {
        "colab": {
          "base_uri": "https://localhost:8080/",
          "height": 507
        },
        "id": "tIcEaxfngeET",
        "outputId": "9f64c031-dce4-4c97-cc0b-c68864fcad34"
      },
      "outputs": [
        {
          "data": {
            "image/png": "[encoded data removed]",
            "text/plain": [
              "<Figure size 1200x500 with 2 Axes>"
            ]
          },
          "metadata": {},
          "output_type": "display_data"
        }
      ],
      "source": [
        "fig, axes = plt.subplots(1, 2, figsize=(12, 5))\n",
        "\n",
        "# Accuracy plot\n",
        "axes[0].plot(data.history['accuracy'], label='Train Accuracy')\n",
        "axes[0].plot(data.history['val_accuracy'], label='Val Accuracy')\n",
        "axes[0].set_xlabel('Epochs')\n",
        "axes[0].set_ylabel('Accuracy')\n",
        "axes[0].legend()\n",
        "axes[0].set_title('Model Accuracy')\n",
        "\n",
        "# Loss plot\n",
        "axes[1].plot(data.history['loss'], label='Train Loss')\n",
        "axes[1].plot(data.history['val_loss'], label='Validation Loss')\n",
        "axes[1].set_xlabel('Epochs')\n",
        "axes[1].set_ylabel('Loss')\n",
        "axes[1].legend()\n",
        "axes[1].set_title('Model Loss')\n",
        "\n",
        "# Adjust layout to prevent overlap\n",
        "plt.tight_layout()\n",
        "plt.show()"
      ]
    },
    {
      "cell_type": "markdown",
      "metadata": {
        "id": "FKMo4bMQV-on"
      },
      "source": [
        "Show Confusion Matrix of Model"
      ]
    },
    {
      "cell_type": "code",
      "execution_count": null,
      "metadata": {
        "colab": {
          "base_uri": "https://localhost:8080/",
          "height": 504
        },
        "id": "CKzqHwf2V93e",
        "outputId": "61bd3553-8e85-4a5a-fca3-05d523dc8619"
      },
      "outputs": [
        {
          "name": "stdout",
          "output_type": "stream",
          "text": [
            "\u001b[1m13/13\u001b[0m \u001b[32m━━━━━━━━━━━━━━━━━━━━\u001b[0m\u001b[37m\u001b[0m \u001b[1m7s\u001b[0m 449ms/step\n"
          ]
        },
        {
          "data": {
            "image/png": "[encoded data removed]",
            "text/plain": [
              "<Figure size 600x500 with 2 Axes>"
            ]
          },
          "metadata": {},
          "output_type": "display_data"
        }
      ],
      "source": [
        "# 1. Make predictions on the test set\n",
        "y_pred_probs = model.predict(x_test)  # Get probability outputs\n",
        "y_pred = (y_pred_probs > 0.5).astype(int)  # Convert probabilities to 0 or 1\n",
        "\n",
        "# 2. Compute the confusion matrix\n",
        "cm = confusion_matrix(y_test, y_pred)\n",
        "\n",
        "# 3. Flip the order of the confusion matrix rows (so \"Yes\" is on top)\n",
        "cm = np.flipud(cm)\n",
        "\n",
        "# 4. Create a heatmap visualization\n",
        "plt.figure(figsize=(6,5))\n",
        "sns.heatmap(cm, annot=True, fmt=\"d\", cmap=\"Blues\",\n",
        "            xticklabels=[\"Predicted No\", \"Predicted Yes\"],\n",
        "            yticklabels=[\"Actual Yes\", \"Actual No\"])  # Swapped order\n",
        "\n",
        "# 5. Add labels to the heatmap\n",
        "plt.xlabel(\"Predicted Label\")\n",
        "plt.ylabel(\"True Label\")\n",
        "plt.title(\"Confusion Matrix\")\n",
        "\n",
        "# Show the plot\n",
        "plt.show()"
      ]
    },
    {
      "cell_type": "markdown",
      "metadata": {
        "id": "xgmO_rtagqr5"
      },
      "source": [
        "Display the overall results of the model"
      ]
    },
    {
      "cell_type": "code",
      "execution_count": null,
      "metadata": {
        "colab": {
          "base_uri": "https://localhost:8080/"
        },
        "id": "55gupqySgqOo",
        "outputId": "f88aaa04-c8f2-4efc-c826-47169c8fa00c"
      },
      "outputs": [
        {
          "name": "stdout",
          "output_type": "stream",
          "text": [
            "\u001b[1m25/25\u001b[0m \u001b[32m━━━━━━━━━━━━━━━━━━━━\u001b[0m\u001b[37m\u001b[0m \u001b[1m8s\u001b[0m 233ms/step\n",
            "              precision    recall  f1-score   support\n",
            "\n",
            "    No Tumor       0.98      0.98      0.98       205\n",
            "       Tumor       0.98      0.98      0.98       184\n",
            "\n",
            "    accuracy                           0.98       389\n",
            "   macro avg       0.98      0.98      0.98       389\n",
            "weighted avg       0.98      0.98      0.98       389\n",
            "\n"
          ]
        }
      ],
      "source": [
        "# Extract labels from the validation dataset\n",
        "y_true = np.concatenate([y for x, y in val_ds], axis=0)\n",
        "\n",
        "# Predict on validation data\n",
        "y_pred = (model.predict(val_ds) > 0.5).astype(\"int32\")  # Convert probabilities to 0/1\n",
        "\n",
        "# Print classification report\n",
        "print(classification_report(y_true, y_pred, target_names=[\"No Tumor\", \"Tumor\"]))"
      ]
    }
  ],
  "metadata": {
    "accelerator": "GPU",
    "colab": {
      "gpuType": "T4",
      "provenance": []
    },
    "kernelspec": {
      "display_name": "Python 3",
      "name": "python3"
    },
    "language_info": {
      "codemirror_mode": {
        "name": "ipython",
        "version": 3
      },
      "file_extension": ".py",
      "mimetype": "text/x-python",
      "name": "python",
      "nbconvert_exporter": "python",
      "pygments_lexer": "ipython3",
      "version": "3.11.0"
    }
  },
  "nbformat": 4,
  "nbformat_minor": 0
}
